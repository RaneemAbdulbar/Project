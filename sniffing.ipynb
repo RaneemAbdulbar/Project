{
 "cells": [
  {
   "cell_type": "code",
   "execution_count": 1,
   "metadata": {},
   "outputs": [],
   "source": [
    "import subprocess as sub\n",
    "import argparse\n",
    "import re"
   ]
  },
  {
   "cell_type": "code",
   "execution_count": 5,
   "metadata": {},
   "outputs": [
    {
     "name": "stderr",
     "output_type": "stream",
     "text": [
      "usage: ipykernel_launcher.py [-h] [-i INTERFACE] [-m NEW_MAC]\n",
      "ipykernel_launcher.py: error: unrecognized arguments: --f=/Users/raneemabdulbar/Library/Jupyter/runtime/kernel-v2-78088Tz3k4xwkVJCe.json\n"
     ]
    },
    {
     "ename": "SystemExit",
     "evalue": "2",
     "output_type": "error",
     "traceback": [
      "An exception has occurred, use %tb to see the full traceback.\n",
      "\u001b[0;31mSystemExit\u001b[0m\u001b[0;31m:\u001b[0m 2\n"
     ]
    },
    {
     "name": "stderr",
     "output_type": "stream",
     "text": [
      "/Users/raneemabdulbar/anaconda3/lib/python3.11/site-packages/IPython/core/interactiveshell.py:3534: UserWarning: To exit: use 'exit', 'quit', or Ctrl-D.\n",
      "  warn(\"To exit: use 'exit', 'quit', or Ctrl-D.\", stacklevel=1)\n"
     ]
    }
   ],
   "source": [
    "def get_args():\n",
    "  parser = argparse.ArgumentParser()\n",
    "  parser.add_argument('-i', '--interface', dest = 'interface', help = 'Interface name whose MAC is to be changed')\n",
    "  parser.add_argument('-m', '--mac', dest = 'new_mac', help = 'New MAC Address')\n",
    "  options = parser.parse_args()\n",
    "  \n",
    "  #Check for errors i.e if the user does not specify the interface or new MAC\n",
    "  #Quit the program if any one of the argument is missing\n",
    "  #While quitting also display an error message\n",
    "  \n",
    "  if not options.interface:\n",
    "    #Code to handle if interface is not specified\n",
    "    parser.error('[-] Please specify an interface in the arguments, use --help for more info.')\n",
    "    \n",
    "  elif not options.new_mac:\n",
    "      #Code to handle if new MAC Address is not specified\n",
    "      parser.error('[-] Please specify a new MAC Address, use --help for more info.')\n",
    "      \n",
    "  return options\n",
    "\n",
    "command_args = get_args()"
   ]
  }
 ],
 "metadata": {
  "kernelspec": {
   "display_name": "base",
   "language": "python",
   "name": "python3"
  },
  "language_info": {
   "codemirror_mode": {
    "name": "ipython",
    "version": 3
   },
   "file_extension": ".py",
   "mimetype": "text/x-python",
   "name": "python",
   "nbconvert_exporter": "python",
   "pygments_lexer": "ipython3",
   "version": "3.11.5"
  }
 },
 "nbformat": 4,
 "nbformat_minor": 2
}
